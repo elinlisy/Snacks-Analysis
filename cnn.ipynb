{
 "cells": [
  {
   "cell_type": "markdown",
   "source": [
    "**CNN**\n"
   ],
   "metadata": {
    "collapsed": false
   }
  },
  {
   "cell_type": "markdown",
   "source": [
    "\n",
    "In this part, we chose to implement a CNN on the Snacks images."
   ],
   "metadata": {
    "collapsed": false
   }
  },
  {
   "cell_type": "code",
   "execution_count": 2,
   "outputs": [],
   "source": [
    "import pandas as pd\n",
    "import numpy as np\n",
    "from PIL import Image\n",
    "import warnings\n",
    "warnings.filterwarnings('ignore')\n",
    "%reload_ext autoreload\n",
    "%autoreload 2\n",
    "%matplotlib inline\n",
    "from fastai import *\n",
    "from fastai.vision import *\n",
    "from tensorflow.keras import Sequential,losses\n",
    "from tensorflow.keras.layers import Dense, Conv2D, MaxPooling2D, Flatten, Dropout\n",
    "from tensorflow.keras.callbacks import EarlyStopping\n",
    "from skimage.transform import resize"
   ],
   "metadata": {
    "collapsed": false
   }
  },
  {
   "cell_type": "code",
   "execution_count": 3,
   "outputs": [],
   "source": [
    "food_train=pd.read_csv('data/food_train.csv')\n",
    "food_test=pd.read_csv('data/food_test.csv')\n",
    "nutri=pd.read_csv('data/nutrients.csv')\n",
    "food_nutri=pd.read_csv('data/food_nutrients.csv')"
   ],
   "metadata": {
    "collapsed": false,
    "ExecuteTime": {
     "end_time": "2023-08-23T13:29:21.695836700Z",
     "start_time": "2023-08-23T13:29:11.026541700Z"
    }
   },
   "id": "7f5cb8088cd79846"
  },
  {
   "cell_type": "markdown",
   "source": [
    "First, let's define some useful functions to help us load the images"
   ],
   "metadata": {
    "collapsed": false
   }
  },
  {
   "cell_type": "code",
   "execution_count": 18,
   "outputs": [],
   "source": [
    "def get_photo(number,category):\n",
    "    mypath='data/foods_final/train'\n",
    "    img=Image.open(mypath+'/'+category+'/'+str(number)+'.jpg').convert('RGB')\n",
    "    return img\n",
    "\n",
    "\n",
    "def get_photo_test(number):\n",
    "    mypath='data/foods_final/test'\n",
    "    img=Image.open(mypath+'/'+str(number)+'.jpg').convert('RGB')\n",
    "    return img\n"
   ],
   "metadata": {
    "collapsed": false,
    "ExecuteTime": {
     "end_time": "2023-08-23T13:29:22.535608300Z",
     "start_time": "2023-08-23T13:29:21.691321400Z"
    }
   },
   "id": "523430b2d4c8b9f0"
  },
  {
   "cell_type": "code",
   "execution_count": 19,
   "outputs": [
    {
     "data": {
      "text/plain": "(5, 100, 100, 3)"
     },
     "execution_count": 19,
     "metadata": {},
     "output_type": "execute_result"
    }
   ],
   "source": [
    "food_train['photo']=np.nan\n",
    "\n",
    "food_train['photo'] = food_train.apply(\n",
    "    lambda x: resize(\n",
    "        np.asarray(get_photo(x['idx'], x['category'])),\n",
    "        (100, 100)\n",
    "    ).astype('float32'),\n",
    "    axis=1\n",
    ")\n",
    "np.array(food_train['photo'].head().tolist()).shape\n"
   ],
   "metadata": {
    "collapsed": false,
    "is_executing": true,
    "ExecuteTime": {
     "start_time": "2023-08-23T13:29:22.545473800Z"
    }
   },
   "id": "5407662a422c31a5"
  },
  {
   "cell_type": "code",
   "execution_count": 20,
   "outputs": [
    {
     "data": {
      "text/plain": "(5, 100, 100, 3)"
     },
     "execution_count": 20,
     "metadata": {},
     "output_type": "execute_result"
    }
   ],
   "source": [
    "food_test['photo']=np.nan\n",
    "\n",
    "food_test['photo'] = food_test.apply(\n",
    "    lambda x: resize(\n",
    "        np.asarray(get_photo_test(x['idx'])),\n",
    "        (100, 100)\n",
    "    ).astype('float32'),\n",
    "    axis=1\n",
    ")\n",
    "np.array(food_test['photo'].head().tolist()).shape\n"
   ],
   "metadata": {
    "collapsed": false,
    "is_executing": true
   },
   "id": "3264d839dd7b0422"
  },
  {
   "cell_type": "code",
   "execution_count": 21,
   "outputs": [],
   "source": [
    "X = np.array(food_train['photo'])\n",
    "y= pd.Categorical(food_train['category'])\n",
    "train_y=y.codes\n",
    "test=np.array(food_test['photo'].tolist())\n"
   ],
   "metadata": {
    "collapsed": false,
    "is_executing": true
   },
   "id": "2e32d9841bf646ed"
  },
  {
   "cell_type": "code",
   "execution_count": null,
   "outputs": [],
   "source": [
    "tra = np.array(food_train['photo'].tolist())\n",
    "cat = pd.Categorical(food_train['category'])\n",
    "tra_y = cat.codes\n",
    "cat.codes\n",
    "tes = np.array(food_test['photo'].tolist())\n"
   ],
   "metadata": {
    "collapsed": false
   }
  },
  {
   "cell_type": "code",
   "execution_count": null,
   "outputs": [],
   "source": [
    "cat_dict = dict(enumerate(cat.categories))"
   ],
   "metadata": {
    "collapsed": false
   }
  },
  {
   "cell_type": "code",
   "execution_count": 27,
   "outputs": [
    {
     "name": "stdout",
     "output_type": "stream",
     "text": [
      "Epoch 1/30\n",
      "239/239 [==============================] - 68s 280ms/step - loss: 1.5403 - accuracy: 0.3844 - val_loss: 1.4277 - val_accuracy: 0.4443\n",
      "Epoch 2/30\n",
      "239/239 [==============================] - 67s 281ms/step - loss: 1.3346 - accuracy: 0.4889 - val_loss: 1.3708 - val_accuracy: 0.4584\n",
      "Epoch 3/30\n",
      "239/239 [==============================] - 76s 319ms/step - loss: 1.2298 - accuracy: 0.5407 - val_loss: 1.2930 - val_accuracy: 0.5035\n",
      "Epoch 4/30\n",
      "239/239 [==============================] - 81s 338ms/step - loss: 1.1415 - accuracy: 0.5804 - val_loss: 1.2183 - val_accuracy: 0.5560\n",
      "Epoch 5/30\n",
      "239/239 [==============================] - 77s 322ms/step - loss: 1.0598 - accuracy: 0.6130 - val_loss: 1.2248 - val_accuracy: 0.5570\n",
      "Epoch 6/30\n",
      "239/239 [==============================] - 80s 336ms/step - loss: 0.9936 - accuracy: 0.6363 - val_loss: 1.1946 - val_accuracy: 0.5693\n",
      "Epoch 7/30\n",
      "239/239 [==============================] - 79s 331ms/step - loss: 0.9393 - accuracy: 0.6590 - val_loss: 1.2381 - val_accuracy: 0.5523\n",
      "Epoch 8/30\n",
      "239/239 [==============================] - 79s 331ms/step - loss: 0.8778 - accuracy: 0.6818 - val_loss: 1.1959 - val_accuracy: 0.5784\n",
      "Epoch 9/30\n",
      "239/239 [==============================] - 80s 333ms/step - loss: 0.8319 - accuracy: 0.7013 - val_loss: 1.1910 - val_accuracy: 0.5907\n",
      "Epoch 10/30\n",
      "239/239 [==============================] - 80s 333ms/step - loss: 0.7958 - accuracy: 0.7145 - val_loss: 1.1832 - val_accuracy: 0.5941\n",
      "Epoch 11/30\n",
      "239/239 [==============================] - 80s 336ms/step - loss: 0.7650 - accuracy: 0.7291 - val_loss: 1.2183 - val_accuracy: 0.5888\n",
      "Epoch 12/30\n",
      "239/239 [==============================] - 81s 339ms/step - loss: 0.7297 - accuracy: 0.7409 - val_loss: 1.2262 - val_accuracy: 0.5916\n",
      "Epoch 13/30\n",
      "239/239 [==============================] - 85s 357ms/step - loss: 0.7083 - accuracy: 0.7445 - val_loss: 1.2103 - val_accuracy: 0.5986\n",
      "Epoch 14/30\n",
      "239/239 [==============================] - 82s 342ms/step - loss: 0.6815 - accuracy: 0.7542 - val_loss: 1.2770 - val_accuracy: 0.5828\n",
      "Epoch 15/30\n",
      "239/239 [==============================] - 372s 2s/step - loss: 0.6591 - accuracy: 0.7645 - val_loss: 1.2215 - val_accuracy: 0.6008\n",
      "111/111 [==============================] - 3s 23ms/step\n"
     ]
    }
   ],
   "source": [
    "model = Sequential()\n",
    "model.add(Conv2D(filters=32, input_shape=(100, 100, 3),\n",
    "                 kernel_size=(3, 3), padding='same', activation='relu'))\n",
    "model.add(MaxPooling2D(pool_size=(2, 2)))\n",
    "model.add(Conv2D(64, kernel_size=(3, 3), activation='relu'))\n",
    "model.add(MaxPooling2D(pool_size=(2, 2)))\n",
    "model.add(Flatten())\n",
    "model.add(Dropout(0.5))\n",
    "model.add(Dense(6, activation='softmax'))\n",
    "model.compile(loss='sparse_categorical_crossentropy',\n",
    "              optimizer='adam', metrics=['accuracy'])\n",
    "callbacks = [EarlyStopping(monitor='val_loss', patience=5)]\n",
    "history = model.fit(tra, tra_y, batch_size=120, epochs=30,\n",
    "                    validation_split=0.1, callbacks=callbacks)\n",
    "pr = model.predict(tes)\n",
    "pr = pr.argmax(axis=1)\n",
    "test_predict_cnn = np.array(list(map(lambda x: cat_dict[x], pr)))\n",
    "np.savetxt('test_predict_cnn.txt', test_predict_cnn, fmt='%s')"
   ],
   "metadata": {
    "collapsed": false
   }
  },
  {
   "cell_type": "markdown",
   "source": [
    "We've got only o.6 accuracy."
   ],
   "metadata": {
    "collapsed": false
   }
  },
  {
   "cell_type": "markdown",
   "source": [
    "Let's combine the prediction of the CNN, random forest, and LSTM:\n",
    "if two or more models agree on a category, we'll select that category.\n",
    "Otherwise, we'll default to the LSTM's prediction."
   ],
   "metadata": {
    "collapsed": false
   }
  },
  {
   "cell_type": "code",
   "execution_count": 7,
   "outputs": [],
   "source": [
    "test_predict_lstm=np.loadtxt('test_predict_lstm.txt',dtype='str')\n",
    "test_predict_forest=np.loadtxt('test_predict_RF.txt',dtype='str')\n",
    "test_predict_cnn=np.loadtxt('test_predict_cnn.txt',dtype='str')"
   ],
   "metadata": {
    "collapsed": false
   }
  },
  {
   "cell_type": "code",
   "execution_count": 8,
   "outputs": [],
   "source": [
    "combined_pred = np.where(test_predict_cnn!=test_predict_forest,test_predict_lstm,test_predict_cnn)"
   ],
   "metadata": {
    "collapsed": false
   }
  },
  {
   "cell_type": "code",
   "execution_count": 10,
   "outputs": [],
   "source": [
    "pd.Series(combined_pred,food_test['idx'],name='pred_cat').to_csv('model02.csv',index_label='idx')"
   ],
   "metadata": {
    "collapsed": false
   }
  }
 ],
 "metadata": {
  "kernelspec": {
   "name": "pythonproject4",
   "language": "python",
   "display_name": "pythonProject4"
  },
  "language_info": {
   "codemirror_mode": {
    "name": "ipython",
    "version": 2
   },
   "file_extension": ".py",
   "mimetype": "text/x-python",
   "name": "python",
   "nbconvert_exporter": "python",
   "pygments_lexer": "ipython2",
   "version": "2.7.6"
  }
 },
 "nbformat": 4,
 "nbformat_minor": 5
}
